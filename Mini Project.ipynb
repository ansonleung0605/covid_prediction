{
 "cells": [
  {
   "cell_type": "code",
   "execution_count": 1,
   "metadata": {},
   "outputs": [
    {
     "data": {
      "text/html": [
       "<div>\n",
       "<style scoped>\n",
       "    .dataframe tbody tr th:only-of-type {\n",
       "        vertical-align: middle;\n",
       "    }\n",
       "\n",
       "    .dataframe tbody tr th {\n",
       "        vertical-align: top;\n",
       "    }\n",
       "\n",
       "    .dataframe thead th {\n",
       "        text-align: right;\n",
       "    }\n",
       "</style>\n",
       "<table border=\"1\" class=\"dataframe\">\n",
       "  <thead>\n",
       "    <tr style=\"text-align: right;\">\n",
       "      <th></th>\n",
       "      <th>OBJECTID</th>\n",
       "      <th>Case_no_</th>\n",
       "      <th>Date_of_laboratory_confirmation</th>\n",
       "      <th>Date_of_onset</th>\n",
       "      <th>Gender</th>\n",
       "      <th>Age</th>\n",
       "      <th>Name_of_hospital_admitted</th>\n",
       "      <th>Hospitalised_Discharged_Decease</th>\n",
       "      <th>HK_Non_HK_resident</th>\n",
       "      <th>Case_classification</th>\n",
       "      <th>Confirmed</th>\n",
       "    </tr>\n",
       "  </thead>\n",
       "  <tbody>\n",
       "    <tr>\n",
       "      <th>0</th>\n",
       "      <td>3539</td>\n",
       "      <td>3397</td>\n",
       "      <td>01/08/2020</td>\n",
       "      <td>29/07/2020</td>\n",
       "      <td>F</td>\n",
       "      <td>36</td>\n",
       "      <td>NaN</td>\n",
       "      <td>To be provided</td>\n",
       "      <td>HK Resident</td>\n",
       "      <td>Epidemiologically linked with local case</td>\n",
       "      <td>Confirmed</td>\n",
       "    </tr>\n",
       "    <tr>\n",
       "      <th>1</th>\n",
       "      <td>3538</td>\n",
       "      <td>3396</td>\n",
       "      <td>01/08/2020</td>\n",
       "      <td>Asymptomatic</td>\n",
       "      <td>M</td>\n",
       "      <td>72</td>\n",
       "      <td>NaN</td>\n",
       "      <td>To be provided</td>\n",
       "      <td>HK Resident</td>\n",
       "      <td>Local case</td>\n",
       "      <td>Confirmed</td>\n",
       "    </tr>\n",
       "    <tr>\n",
       "      <th>2</th>\n",
       "      <td>3537</td>\n",
       "      <td>3395</td>\n",
       "      <td>01/08/2020</td>\n",
       "      <td>18/07/2020</td>\n",
       "      <td>M</td>\n",
       "      <td>68</td>\n",
       "      <td>NaN</td>\n",
       "      <td>To be provided</td>\n",
       "      <td>HK Resident</td>\n",
       "      <td>Local case</td>\n",
       "      <td>Confirmed</td>\n",
       "    </tr>\n",
       "    <tr>\n",
       "      <th>3</th>\n",
       "      <td>3536</td>\n",
       "      <td>3394</td>\n",
       "      <td>01/08/2020</td>\n",
       "      <td>22/07/2020</td>\n",
       "      <td>M</td>\n",
       "      <td>66</td>\n",
       "      <td>NaN</td>\n",
       "      <td>To be provided</td>\n",
       "      <td>HK Resident</td>\n",
       "      <td>Local case</td>\n",
       "      <td>Confirmed</td>\n",
       "    </tr>\n",
       "    <tr>\n",
       "      <th>4</th>\n",
       "      <td>3535</td>\n",
       "      <td>3393</td>\n",
       "      <td>01/08/2020</td>\n",
       "      <td>28/07/2020</td>\n",
       "      <td>M</td>\n",
       "      <td>66</td>\n",
       "      <td>NaN</td>\n",
       "      <td>To be provided</td>\n",
       "      <td>HK Resident</td>\n",
       "      <td>Local case</td>\n",
       "      <td>Confirmed</td>\n",
       "    </tr>\n",
       "    <tr>\n",
       "      <th>...</th>\n",
       "      <td>...</td>\n",
       "      <td>...</td>\n",
       "      <td>...</td>\n",
       "      <td>...</td>\n",
       "      <td>...</td>\n",
       "      <td>...</td>\n",
       "      <td>...</td>\n",
       "      <td>...</td>\n",
       "      <td>...</td>\n",
       "      <td>...</td>\n",
       "      <td>...</td>\n",
       "    </tr>\n",
       "    <tr>\n",
       "      <th>3392</th>\n",
       "      <td>147</td>\n",
       "      <td>5</td>\n",
       "      <td>24/01/2020</td>\n",
       "      <td>23/01/2020</td>\n",
       "      <td>M</td>\n",
       "      <td>63</td>\n",
       "      <td>NaN</td>\n",
       "      <td>Discharged</td>\n",
       "      <td>Non-HK resident</td>\n",
       "      <td>Imported case</td>\n",
       "      <td>Confirmed</td>\n",
       "    </tr>\n",
       "    <tr>\n",
       "      <th>3393</th>\n",
       "      <td>146</td>\n",
       "      <td>4</td>\n",
       "      <td>24/01/2020</td>\n",
       "      <td>23/01/2020</td>\n",
       "      <td>F</td>\n",
       "      <td>62</td>\n",
       "      <td>NaN</td>\n",
       "      <td>Discharged</td>\n",
       "      <td>Non-HK resident</td>\n",
       "      <td>Imported case</td>\n",
       "      <td>Confirmed</td>\n",
       "    </tr>\n",
       "    <tr>\n",
       "      <th>3394</th>\n",
       "      <td>145</td>\n",
       "      <td>3</td>\n",
       "      <td>24/01/2020</td>\n",
       "      <td>20/01/2020</td>\n",
       "      <td>F</td>\n",
       "      <td>62</td>\n",
       "      <td>NaN</td>\n",
       "      <td>Discharged</td>\n",
       "      <td>Non-HK resident</td>\n",
       "      <td>Imported case</td>\n",
       "      <td>Confirmed</td>\n",
       "    </tr>\n",
       "    <tr>\n",
       "      <th>3395</th>\n",
       "      <td>144</td>\n",
       "      <td>2</td>\n",
       "      <td>23/01/2020</td>\n",
       "      <td>18/01/2020</td>\n",
       "      <td>M</td>\n",
       "      <td>56</td>\n",
       "      <td>NaN</td>\n",
       "      <td>Discharged</td>\n",
       "      <td>HK resident</td>\n",
       "      <td>Imported case</td>\n",
       "      <td>Confirmed</td>\n",
       "    </tr>\n",
       "    <tr>\n",
       "      <th>3396</th>\n",
       "      <td>143</td>\n",
       "      <td>1</td>\n",
       "      <td>23/01/2020</td>\n",
       "      <td>21/01/2020</td>\n",
       "      <td>M</td>\n",
       "      <td>39</td>\n",
       "      <td>NaN</td>\n",
       "      <td>Discharged</td>\n",
       "      <td>Non-HK resident</td>\n",
       "      <td>Imported case</td>\n",
       "      <td>Confirmed</td>\n",
       "    </tr>\n",
       "  </tbody>\n",
       "</table>\n",
       "<p>3397 rows × 11 columns</p>\n",
       "</div>"
      ],
      "text/plain": [
       "      OBJECTID  Case_no_ Date_of_laboratory_confirmation Date_of_onset Gender  \\\n",
       "0         3539      3397                      01/08/2020    29/07/2020      F   \n",
       "1         3538      3396                      01/08/2020  Asymptomatic      M   \n",
       "2         3537      3395                      01/08/2020    18/07/2020      M   \n",
       "3         3536      3394                      01/08/2020    22/07/2020      M   \n",
       "4         3535      3393                      01/08/2020    28/07/2020      M   \n",
       "...        ...       ...                             ...           ...    ...   \n",
       "3392       147         5                      24/01/2020    23/01/2020      M   \n",
       "3393       146         4                      24/01/2020    23/01/2020      F   \n",
       "3394       145         3                      24/01/2020    20/01/2020      F   \n",
       "3395       144         2                      23/01/2020    18/01/2020      M   \n",
       "3396       143         1                      23/01/2020    21/01/2020      M   \n",
       "\n",
       "      Age  Name_of_hospital_admitted Hospitalised_Discharged_Decease  \\\n",
       "0      36                        NaN                  To be provided   \n",
       "1      72                        NaN                  To be provided   \n",
       "2      68                        NaN                  To be provided   \n",
       "3      66                        NaN                  To be provided   \n",
       "4      66                        NaN                  To be provided   \n",
       "...   ...                        ...                             ...   \n",
       "3392   63                        NaN                      Discharged   \n",
       "3393   62                        NaN                      Discharged   \n",
       "3394   62                        NaN                      Discharged   \n",
       "3395   56                        NaN                      Discharged   \n",
       "3396   39                        NaN                      Discharged   \n",
       "\n",
       "     HK_Non_HK_resident                       Case_classification  Confirmed  \n",
       "0           HK Resident  Epidemiologically linked with local case  Confirmed  \n",
       "1           HK Resident                                Local case  Confirmed  \n",
       "2           HK Resident                                Local case  Confirmed  \n",
       "3           HK Resident                                Local case  Confirmed  \n",
       "4           HK Resident                                Local case  Confirmed  \n",
       "...                 ...                                       ...        ...  \n",
       "3392    Non-HK resident                             Imported case  Confirmed  \n",
       "3393    Non-HK resident                             Imported case  Confirmed  \n",
       "3394    Non-HK resident                             Imported case  Confirmed  \n",
       "3395        HK resident                             Imported case  Confirmed  \n",
       "3396    Non-HK resident                             Imported case  Confirmed  \n",
       "\n",
       "[3397 rows x 11 columns]"
      ]
     },
     "execution_count": 1,
     "metadata": {},
     "output_type": "execute_result"
    }
   ],
   "source": [
    "import pandas as pd\n",
    "from pandas import Series, DataFrame\n",
    "data = pd.read_csv('covid19case_02_08.csv')\n",
    "data = data.iloc[:, :11]\n",
    "data"
   ]
  },
  {
   "cell_type": "markdown",
   "metadata": {},
   "source": [
    "# Data Visualisation"
   ]
  },
  {
   "cell_type": "code",
   "execution_count": 2,
   "metadata": {},
   "outputs": [
    {
     "name": "stdout",
     "output_type": "stream",
     "text": [
      "F    1707\n",
      "M    1690\n",
      "Name: Gender, dtype: int64\n"
     ]
    }
   ],
   "source": [
    "x = data['Gender'].value_counts()\n",
    "print(x)"
   ]
  },
  {
   "cell_type": "code",
   "execution_count": 3,
   "metadata": {
    "scrolled": true
   },
   "outputs": [
    {
     "data": {
      "text/plain": [
       "<matplotlib.axes._subplots.AxesSubplot at 0x7f92bbbb3210>"
      ]
     },
     "execution_count": 3,
     "metadata": {},
     "output_type": "execute_result"
    },
    {
     "data": {
      "image/png": "[encoded data removed]",
      "text/plain": [
       "<Figure size 432x288 with 1 Axes>"
      ]
     },
     "metadata": {
      "needs_background": "light"
     },
     "output_type": "display_data"
    }
   ],
   "source": [
    "import matplotlib.pyplot as plt\n",
    "plt.xlabel('Gender')\n",
    "plt.ylabel('Number of Patients')\n",
    "plt.title('Covid Patients Gender')\n",
    "plt.grid(True)\n",
    "\n",
    "x.plot(kind='bar',color='m')\n"
   ]
  },
  {
   "cell_type": "code",
   "execution_count": 4,
   "metadata": {},
   "outputs": [
    {
     "name": "stdout",
     "output_type": "stream",
     "text": [
      "Epidemiologically linked with local case             1290\n",
      "Imported case                                        1045\n",
      "Local case                                            867\n",
      "Possibly local case                                   103\n",
      "Epidemiologically linked with possibly local case      62\n",
      "Epidemiologically linked with imported case            30\n",
      "Name: Case_classification, dtype: int64\n"
     ]
    }
   ],
   "source": [
    "y = data['Case_classification'].value_counts()\n",
    "print(y)"
   ]
  },
  {
   "cell_type": "code",
   "execution_count": 5,
   "metadata": {},
   "outputs": [
    {
     "data": {
      "text/plain": [
       "<matplotlib.axes._subplots.AxesSubplot at 0x7f92bc1dd790>"
      ]
     },
     "execution_count": 5,
     "metadata": {},
     "output_type": "execute_result"
    },
    {
     "data": {
      "image/png": "[encoded data removed]",
      "text/plain": [
       "<Figure size 432x288 with 1 Axes>"
      ]
     },
     "metadata": {
      "needs_background": "light"
     },
     "output_type": "display_data"
    }
   ],
   "source": [
    "import matplotlib.pyplot as plt\n",
    "plt.xlabel('Classification')\n",
    "plt.ylabel('Number of Patients')\n",
    "plt.title('Case Classification')\n",
    "plt.xticks([i + 0.5 for i, _ in enumerate(y)], y)\n",
    "plt.grid(True)\n",
    "\n",
    "y.plot(kind='bar',color='b')"
   ]
  },
  {
   "cell_type": "code",
   "execution_count": 6,
   "metadata": {},
   "outputs": [
    {
     "data": {
      "text/plain": [
       "0    36\n",
       "1    72\n",
       "2    68\n",
       "3    66\n",
       "4    66\n",
       "Name: Age, dtype: int64"
      ]
     },
     "execution_count": 6,
     "metadata": {},
     "output_type": "execute_result"
    }
   ],
   "source": [
    "z = data['Age']\n",
    "z.head()"
   ]
  },
  {
   "cell_type": "code",
   "execution_count": 7,
   "metadata": {},
   "outputs": [
    {
     "data": {
      "text/plain": [
       "(array([ 90.,  89., 225., 330., 383., 357., 332., 310., 379., 349., 293.,\n",
       "        102.,  75.,  55.,  28.]),\n",
       " array([ 0.        ,  6.46666667, 12.93333333, 19.4       , 25.86666667,\n",
       "        32.33333333, 38.8       , 45.26666667, 51.73333333, 58.2       ,\n",
       "        64.66666667, 71.13333333, 77.6       , 84.06666667, 90.53333333,\n",
       "        97.        ]),\n",
       " <a list of 15 Patch objects>)"
      ]
     },
     "execution_count": 7,
     "metadata": {},
     "output_type": "execute_result"
    },
    {
     "data": {
      "image/png": "[encoded data removed]",
      "text/plain": [
       "<Figure size 432x288 with 1 Axes>"
      ]
     },
     "metadata": {
      "needs_background": "light"
     },
     "output_type": "display_data"
    }
   ],
   "source": [
    "plt.xlabel('Age')\n",
    "plt.ylabel('Number of Patients')\n",
    "plt.title('Age Distribution of Patients')\n",
    "plt.style.use('ggplot')\n",
    "plt.grid(True)\n",
    "plt.hist(z, color='indianred', bins = 15)"
   ]
  },
  {
   "cell_type": "markdown",
   "metadata": {},
   "source": [
    "# Relationship of Data"
   ]
  },
  {
   "cell_type": "code",
   "execution_count": 8,
   "metadata": {},
   "outputs": [],
   "source": [
    "import pandas as pd\n",
    "from sklearn.linear_model import LogisticRegression\n",
    "from sklearn.metrics import classification_report\n",
    "from sklearn.metrics import accuracy_score\n",
    "import re"
   ]
  },
  {
   "cell_type": "code",
   "execution_count": 9,
   "metadata": {},
   "outputs": [
    {
     "data": {
      "text/plain": [
       "0    F\n",
       "1    M\n",
       "2    M\n",
       "3    M\n",
       "4    M\n",
       "Name: Gender, dtype: object"
      ]
     },
     "execution_count": 9,
     "metadata": {},
     "output_type": "execute_result"
    }
   ],
   "source": [
    "gender = data['Gender'].copy()\n",
    "gender.head()"
   ]
  },
  {
   "cell_type": "code",
   "execution_count": 10,
   "metadata": {},
   "outputs": [
    {
     "data": {
      "text/plain": [
       "0       0\n",
       "1       1\n",
       "2       1\n",
       "3       1\n",
       "4       1\n",
       "       ..\n",
       "3392    1\n",
       "3393    0\n",
       "3394    0\n",
       "3395    1\n",
       "3396    1\n",
       "Name: Gender, Length: 3397, dtype: int64"
      ]
     },
     "execution_count": 10,
     "metadata": {},
     "output_type": "execute_result"
    }
   ],
   "source": [
    "gender.replace(['F'], 0, inplace = True)\n",
    "gender.replace(['M'], 1, inplace = True)\n",
    "gender"
   ]
  },
  {
   "cell_type": "code",
   "execution_count": 11,
   "metadata": {},
   "outputs": [
    {
     "data": {
      "text/plain": [
       "Epidemiologically linked with local case             1290\n",
       "Imported case                                        1045\n",
       "Local case                                            867\n",
       "Possibly local case                                   103\n",
       "Epidemiologically linked with possibly local case      62\n",
       "Name: Case_classification, dtype: int64"
      ]
     },
     "execution_count": 11,
     "metadata": {},
     "output_type": "execute_result"
    }
   ],
   "source": [
    "h = data['Case_classification'].value_counts()\n",
    "h.head()"
   ]
  },
  {
   "cell_type": "code",
   "execution_count": 12,
   "metadata": {},
   "outputs": [
    {
     "data": {
      "text/plain": [
       "0    Epidemiologically linked with local case\n",
       "1                                  Local case\n",
       "2                                  Local case\n",
       "3                                  Local case\n",
       "4                                  Local case\n",
       "Name: Case_classification, dtype: object"
      ]
     },
     "execution_count": 12,
     "metadata": {},
     "output_type": "execute_result"
    }
   ],
   "source": [
    "case = data['Case_classification'].copy()\n",
    "case.head()"
   ]
  },
  {
   "cell_type": "code",
   "execution_count": 13,
   "metadata": {},
   "outputs": [
    {
     "data": {
      "text/plain": [
       "0    3\n",
       "1    0\n",
       "2    0\n",
       "3    0\n",
       "4    0\n",
       "Name: Case_classification, dtype: int64"
      ]
     },
     "execution_count": 13,
     "metadata": {},
     "output_type": "execute_result"
    }
   ],
   "source": [
    "case.replace('Local case', 0, inplace = True)\n",
    "case.replace('Possibly local case', 1, inplace = True)\n",
    "case.replace('Imported case', 2, inplace = True)\n",
    "case.replace('Epidemiologically linked with local case', 3, inplace = True)\n",
    "case.replace('Epidemiologically linked with possibly local case', 4, inplace = True)\n",
    "case.replace('Epidemiologically linked with imported case', 5, inplace = True)\n",
    "case.head()"
   ]
  },
  {
   "cell_type": "code",
   "execution_count": 14,
   "metadata": {
    "scrolled": true
   },
   "outputs": [
    {
     "data": {
      "text/plain": [
       "3    1290\n",
       "2    1045\n",
       "0     867\n",
       "1     103\n",
       "4      62\n",
       "5      30\n",
       "Name: Case_classification, dtype: int64"
      ]
     },
     "execution_count": 14,
     "metadata": {},
     "output_type": "execute_result"
    }
   ],
   "source": [
    "case.value_counts()"
   ]
  },
  {
   "cell_type": "code",
   "execution_count": 15,
   "metadata": {},
   "outputs": [],
   "source": [
    "import pandas as pd\n",
    "from sklearn.linear_model import LogisticRegression\n",
    "from sklearn.metrics import classification_report\n",
    "from sklearn.metrics import accuracy_score"
   ]
  },
  {
   "cell_type": "code",
   "execution_count": 16,
   "metadata": {},
   "outputs": [
    {
     "name": "stdout",
     "output_type": "stream",
     "text": [
      "      Gender  Case_classification  Age\n",
      "0          0                    3   36\n",
      "1          1                    0   72\n",
      "2          1                    0   68\n",
      "3          1                    0   66\n",
      "4          1                    0   66\n",
      "...      ...                  ...  ...\n",
      "3392       1                    2   63\n",
      "3393       0                    2   62\n",
      "3394       0                    2   62\n",
      "3395       1                    2   56\n",
      "3396       1                    2   39\n",
      "\n",
      "[3397 rows x 3 columns]\n",
      "                       Gender  Case_classification       Age\n",
      "Gender               1.000000            -0.012828 -0.027431\n",
      "Case_classification -0.012828             1.000000 -0.093217\n",
      "Age                 -0.027431            -0.093217  1.000000\n"
     ]
    },
    {
     "data": {
      "text/plain": [
       "<matplotlib.axes._subplots.AxesSubplot at 0x7f92bddc5690>"
      ]
     },
     "execution_count": 16,
     "metadata": {},
     "output_type": "execute_result"
    },
    {
     "data": {
      "image/png": "[encoded data removed]",
      "text/plain": [
       "<Figure size 432x288 with 2 Axes>"
      ]
     },
     "metadata": {},
     "output_type": "display_data"
    }
   ],
   "source": [
    "import seaborn as sns\n",
    "\n",
    "reg = pd.concat([gender,case, data['Age']], axis=1)\n",
    "\n",
    "\n",
    "print(reg)\n",
    "\n",
    "corr = reg.corr()\n",
    "print(corr)\n",
    "sns.heatmap(corr, cmap='YlGnBu', annot=True,\n",
    "    linewidths=.3, linecolor='white',\n",
    "    xticklabels=corr.columns.values,\n",
    "    yticklabels=corr.columns.values)"
   ]
  },
  {
   "cell_type": "markdown",
   "metadata": {},
   "source": [
    "# Machine Learning"
   ]
  },
  {
   "cell_type": "code",
   "execution_count": 17,
   "metadata": {},
   "outputs": [],
   "source": [
    "# Import libraries\n",
    "import pandas as pd\n",
    "import numpy as np\n",
    "import matplotlib.pyplot as plt\n",
    "from sklearn.cluster import KMeans\n",
    "%matplotlib inline"
   ]
  },
  {
   "cell_type": "code",
   "execution_count": 18,
   "metadata": {},
   "outputs": [
    {
     "data": {
      "image/png": "[encoded data removed]",
      "text/plain": [
       "<Figure size 432x288 with 1 Axes>"
      ]
     },
     "metadata": {
      "needs_background": "light"
     },
     "output_type": "display_data"
    }
   ],
   "source": [
    "x1 = reg['Age']\n",
    "y1 = reg['Case_classification']\n",
    "plt.scatter(x1, y1, s = 50, c = 'b')\n",
    "plt.show()"
   ]
  },
  {
   "cell_type": "code",
   "execution_count": 19,
   "metadata": {},
   "outputs": [
    {
     "data": {
      "text/html": [
       "<div>\n",
       "<style scoped>\n",
       "    .dataframe tbody tr th:only-of-type {\n",
       "        vertical-align: middle;\n",
       "    }\n",
       "\n",
       "    .dataframe tbody tr th {\n",
       "        vertical-align: top;\n",
       "    }\n",
       "\n",
       "    .dataframe thead th {\n",
       "        text-align: right;\n",
       "    }\n",
       "</style>\n",
       "<table border=\"1\" class=\"dataframe\">\n",
       "  <thead>\n",
       "    <tr style=\"text-align: right;\">\n",
       "      <th></th>\n",
       "      <th>Age</th>\n",
       "      <th>Case_classification</th>\n",
       "    </tr>\n",
       "  </thead>\n",
       "  <tbody>\n",
       "    <tr>\n",
       "      <th>0</th>\n",
       "      <td>36</td>\n",
       "      <td>3</td>\n",
       "    </tr>\n",
       "    <tr>\n",
       "      <th>1</th>\n",
       "      <td>72</td>\n",
       "      <td>0</td>\n",
       "    </tr>\n",
       "    <tr>\n",
       "      <th>2</th>\n",
       "      <td>68</td>\n",
       "      <td>0</td>\n",
       "    </tr>\n",
       "    <tr>\n",
       "      <th>3</th>\n",
       "      <td>66</td>\n",
       "      <td>0</td>\n",
       "    </tr>\n",
       "    <tr>\n",
       "      <th>4</th>\n",
       "      <td>66</td>\n",
       "      <td>0</td>\n",
       "    </tr>\n",
       "    <tr>\n",
       "      <th>...</th>\n",
       "      <td>...</td>\n",
       "      <td>...</td>\n",
       "    </tr>\n",
       "    <tr>\n",
       "      <th>3392</th>\n",
       "      <td>63</td>\n",
       "      <td>2</td>\n",
       "    </tr>\n",
       "    <tr>\n",
       "      <th>3393</th>\n",
       "      <td>62</td>\n",
       "      <td>2</td>\n",
       "    </tr>\n",
       "    <tr>\n",
       "      <th>3394</th>\n",
       "      <td>62</td>\n",
       "      <td>2</td>\n",
       "    </tr>\n",
       "    <tr>\n",
       "      <th>3395</th>\n",
       "      <td>56</td>\n",
       "      <td>2</td>\n",
       "    </tr>\n",
       "    <tr>\n",
       "      <th>3396</th>\n",
       "      <td>39</td>\n",
       "      <td>2</td>\n",
       "    </tr>\n",
       "  </tbody>\n",
       "</table>\n",
       "<p>3397 rows × 2 columns</p>\n",
       "</div>"
      ],
      "text/plain": [
       "      Age  Case_classification\n",
       "0      36                    3\n",
       "1      72                    0\n",
       "2      68                    0\n",
       "3      66                    0\n",
       "4      66                    0\n",
       "...   ...                  ...\n",
       "3392   63                    2\n",
       "3393   62                    2\n",
       "3394   62                    2\n",
       "3395   56                    2\n",
       "3396   39                    2\n",
       "\n",
       "[3397 rows x 2 columns]"
      ]
     },
     "execution_count": 19,
     "metadata": {},
     "output_type": "execute_result"
    }
   ],
   "source": [
    "machine = reg[['Age', 'Case_classification']]\n",
    "machine"
   ]
  },
  {
   "cell_type": "code",
   "execution_count": 20,
   "metadata": {},
   "outputs": [
    {
     "data": {
      "text/plain": [
       "KMeans(algorithm='auto', copy_x=True, init='k-means++', max_iter=300,\n",
       "       n_clusters=3, n_init=10, n_jobs=None, precompute_distances='auto',\n",
       "       random_state=None, tol=0.0001, verbose=0)"
      ]
     },
     "execution_count": 20,
     "metadata": {},
     "output_type": "execute_result"
    }
   ],
   "source": [
    "from sklearn.cluster import KMeans\n",
    "Kmean = KMeans(n_clusters=3)\n",
    "Kmean.fit(machine)"
   ]
  },
  {
   "cell_type": "code",
   "execution_count": 21,
   "metadata": {},
   "outputs": [
    {
     "data": {
      "text/plain": [
       "array([[43.6090604 ,  1.82718121],\n",
       "       [21.05013429,  2.07609669],\n",
       "       [67.03216912,  1.80514706]])"
      ]
     },
     "execution_count": 21,
     "metadata": {},
     "output_type": "execute_result"
    }
   ],
   "source": [
    "Kmean.cluster_centers_"
   ]
  },
  {
   "cell_type": "code",
   "execution_count": 22,
   "metadata": {},
   "outputs": [
    {
     "data": {
      "image/png": "[encoded data removed]",
      "text/plain": [
       "<Figure size 432x288 with 1 Axes>"
      ]
     },
     "metadata": {
      "needs_background": "light"
     },
     "output_type": "display_data"
    }
   ],
   "source": [
    "plt.scatter(x1, y1, s =50, c='b')\n",
    "plt.scatter(66.48333333, 1.81666667, s=200, c='g', marker='s')\n",
    "plt.scatter(20.48305085, 2.08097928, s=200, c='y', marker='s')\n",
    "plt.scatter(42.5790795, 1.82718121, s=200, c='r', marker='s')\n",
    "plt.show()"
   ]
  },
  {
   "cell_type": "code",
   "execution_count": 23,
   "metadata": {},
   "outputs": [
    {
     "data": {
      "text/plain": [
       "array([0, 2, 2, ..., 2, 2, 0], dtype=int32)"
      ]
     },
     "execution_count": 23,
     "metadata": {},
     "output_type": "execute_result"
    }
   ],
   "source": [
    "Kmean.labels_"
   ]
  }
 ],
 "metadata": {
  "kernelspec": {
   "display_name": "Python 3",
   "language": "python",
   "name": "python3"
  },
  "language_info": {
   "codemirror_mode": {
    "name": "ipython",
    "version": 3
   },
   "file_extension": ".py",
   "mimetype": "text/x-python",
   "name": "python",
   "nbconvert_exporter": "python",
   "pygments_lexer": "ipython3",
   "version": "3.7.6"
  }
 },
 "nbformat": 4,
 "nbformat_minor": 4
}
